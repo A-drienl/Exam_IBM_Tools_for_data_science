{
 "cells": [
  {
   "cell_type": "markdown",
   "id": "6ac7c034-3cd7-4c8e-8fa9-90198c1476d9",
   "metadata": {
    "tags": []
   },
   "source": [
    "<center>\n",
    "    <img src=\"https://cf-courses-data.s3.us.cloud-object-storage.appdomain.cloud/IBMDeveloperSkillsNetwork-DS0105EN-SkillsNetwork/labs/Module2/images/SN_web_lightmode.png\" width=\"300\" alt=\"cognitiveclass.ai logo\">\n",
    "</center>"
   ]
  },
  {
   "cell_type": "markdown",
   "id": "21b270da-28fd-42db-bfe8-6138aa1c4f37",
   "metadata": {},
   "source": [
    "<H1><center>Data Science Tools and Ecosystem<center>"
   ]
  },
  {
   "cell_type": "markdown",
   "id": "6e60841a-e2c4-43b3-b37c-b285a7b48518",
   "metadata": {},
   "source": [
    "In this notebook, Data Science Tools and Ecosystem are summarized."
   ]
  },
  {
   "cell_type": "markdown",
   "id": "45cc3eca-1c0b-46be-9547-e626db991e86",
   "metadata": {},
   "source": [
    "**Objectives:**\n",
    "- Familiarize with popular tools for Data Science\n",
    "- Be introduced to popular languages used for Data Science\n",
    "- Get an overview of the most common libraries used "
   ]
  },
  {
   "cell_type": "markdown",
   "id": "a0de2e8b-ecf7-4e97-9eb0-fa93f4da3c2f",
   "metadata": {},
   "source": [
    "Some of the popular languages that Data Scientists use are:\n",
    "1. Python \n",
    "2. R\n",
    "3. Scala\n",
    "4. SQL\n",
    "5. Java\n",
    "6. Julia\n",
    "7. C++"
   ]
  },
  {
   "cell_type": "markdown",
   "id": "41768c37-97ec-4b42-ad4a-b28d339a86cb",
   "metadata": {},
   "source": [
    "Some of the commonly used libraries used by Data Scientists include:\n",
    "1. Pandas\n",
    "2. NumPy\n",
    "3. MatPlotLib\n",
    "4. Seaborn\n",
    "5. Keras"
   ]
  },
  {
   "cell_type": "markdown",
   "id": "972075eb-4de4-462c-b241-4a7b40348237",
   "metadata": {},
   "source": [
    "|Data Science Tools|\n",
    "|------------------|\n",
    "|Jupyter Lab|\n",
    "|R Studio|\n",
    "|Hadoop|\n",
    "|Hive|\n",
    "|Apache Spark|\n"
   ]
  },
  {
   "cell_type": "markdown",
   "id": "0763525a-39fa-4a0c-81b1-d8ed94e8b939",
   "metadata": {},
   "source": [
    "<H3>Below are a few examples of evaluating arithmetic expressions in Python<H3>"
   ]
  },
  {
   "cell_type": "code",
   "execution_count": 2,
   "id": "4685ebc2-5ce5-4b72-a888-a13adfea8838",
   "metadata": {
    "tags": []
   },
   "outputs": [
    {
     "data": {
      "text/plain": [
       "17"
      ]
     },
     "execution_count": 2,
     "metadata": {},
     "output_type": "execute_result"
    }
   ],
   "source": [
    "#This a simple arithmetic expression to mutiply then add integers\n",
    "(3*4)+5"
   ]
  },
  {
   "cell_type": "code",
   "execution_count": 3,
   "id": "1784f642-a11f-4e8e-bdaa-333b138ea5a3",
   "metadata": {
    "tags": []
   },
   "outputs": [
    {
     "name": "stdout",
     "output_type": "stream",
     "text": [
      "3.3333333333333335\n"
     ]
    }
   ],
   "source": [
    "#This will convert 200 minutes to hours by diving by 60\n",
    "minutes = 200\n",
    "Minutes_to_hours = minutes/60\n",
    "\n",
    "print(Minutes_to_hours)"
   ]
  },
  {
   "cell_type": "markdown",
   "id": "b07c15d8-4e6f-4ea6-9205-2dbcbf8a0ae8",
   "metadata": {},
   "source": [
    "<H2>Author<H2>\n",
    "\n",
    "Adrien Losfelt\n"
   ]
  }
 ],
 "metadata": {
  "kernelspec": {
   "display_name": "Python",
   "language": "python",
   "name": "conda-env-python-py"
  },
  "language_info": {
   "codemirror_mode": {
    "name": "ipython",
    "version": 3
   },
   "file_extension": ".py",
   "mimetype": "text/x-python",
   "name": "python",
   "nbconvert_exporter": "python",
   "pygments_lexer": "ipython3",
   "version": "3.7.12"
  }
 },
 "nbformat": 4,
 "nbformat_minor": 5
}
